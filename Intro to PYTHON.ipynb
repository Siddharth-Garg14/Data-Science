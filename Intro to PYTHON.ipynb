{
 "cells": [
  {
   "cell_type": "markdown",
   "id": "344921f7",
   "metadata": {
    "tags": []
   },
   "source": [
    "# #Intro to JUPYTER\n"
   ]
  },
  {
   "cell_type": "code",
   "execution_count": 1,
   "id": "ace4bc58",
   "metadata": {},
   "outputs": [
    {
     "name": "stdout",
     "output_type": "stream",
     "text": [
      "10\n"
     ]
    }
   ],
   "source": [
    "a=10\n",
    "print(a)"
   ]
  },
  {
   "cell_type": "code",
   "execution_count": 2,
   "id": "17502c9f",
   "metadata": {},
   "outputs": [
    {
     "name": "stdout",
     "output_type": "stream",
     "text": [
      "10\n"
     ]
    }
   ],
   "source": [
    "b=10\n",
    "print(b)"
   ]
  },
  {
   "cell_type": "code",
   "execution_count": 3,
   "id": "a33a1561",
   "metadata": {},
   "outputs": [
    {
     "name": "stdout",
     "output_type": "stream",
     "text": [
      "30\n"
     ]
    }
   ],
   "source": [
    "a=10\n",
    "b=20\n",
    "print(30)"
   ]
  },
  {
   "cell_type": "code",
   "execution_count": 5,
   "id": "7fad4cd3",
   "metadata": {},
   "outputs": [
    {
     "name": "stdout",
     "output_type": "stream",
     "text": [
      "Hello\n",
      "Hello\n"
     ]
    },
    {
     "data": {
      "text/plain": [
       "10"
      ]
     },
     "execution_count": 5,
     "metadata": {},
     "output_type": "execute_result"
    }
   ],
   "source": [
    "print('Hello')\n",
    "print('Hello')\n",
    "10"
   ]
  },
  {
   "cell_type": "code",
   "execution_count": 7,
   "id": "65515ad1",
   "metadata": {},
   "outputs": [
    {
     "data": {
      "text/plain": [
       "24"
      ]
     },
     "execution_count": 7,
     "metadata": {},
     "output_type": "execute_result"
    }
   ],
   "source": [
    "a=12\n",
    "b=12\n",
    "a+b"
   ]
  },
  {
   "cell_type": "code",
   "execution_count": 8,
   "id": "ad896b17",
   "metadata": {},
   "outputs": [
    {
     "data": {
      "text/plain": [
       "24"
      ]
     },
     "execution_count": 8,
     "metadata": {},
     "output_type": "execute_result"
    }
   ],
   "source": [
    "a=12\n",
    "b=12\n",
    "sum=a+b\n",
    "sum"
   ]
  },
  {
   "cell_type": "code",
   "execution_count": 9,
   "id": "49a7bb2e",
   "metadata": {},
   "outputs": [
    {
     "data": {
      "text/plain": [
       "0"
      ]
     },
     "execution_count": 9,
     "metadata": {},
     "output_type": "execute_result"
    }
   ],
   "source": [
    "a=12\n",
    "b=12\n",
    "a-b"
   ]
  },
  {
   "cell_type": "code",
   "execution_count": 10,
   "id": "1915069e",
   "metadata": {},
   "outputs": [
    {
     "data": {
      "text/plain": [
       "0"
      ]
     },
     "execution_count": 10,
     "metadata": {},
     "output_type": "execute_result"
    }
   ],
   "source": [
    "a=12\n",
    "b=12\n",
    "diff=a-b\n",
    "diff"
   ]
  },
  {
   "cell_type": "code",
   "execution_count": 1,
   "id": "9f5bcab9",
   "metadata": {},
   "outputs": [
    {
     "name": "stdout",
     "output_type": "stream",
     "text": [
      "<class 'int'>\n",
      "<class 'str'>\n"
     ]
    }
   ],
   "source": [
    "a=10\n",
    "print(type(a))\n",
    "a='str'\n",
    "print(type(a))\n"
   ]
  },
  {
   "cell_type": "code",
   "execution_count": 2,
   "id": "dd7fc8d3-e56f-4433-84ca-fe5ae5f2a5e1",
   "metadata": {},
   "outputs": [
    {
     "name": "stdout",
     "output_type": "stream",
     "text": [
      "<class 'int'>\n",
      "<class 'int'>\n"
     ]
    }
   ],
   "source": [
    "a=10\n",
    "b=10\n",
    "print(type(a))\n",
    "print(type(a))"
   ]
  },
  {
   "cell_type": "code",
   "execution_count": 3,
   "id": "3ca0d740-6e25-431b-9138-1b6e49133e5d",
   "metadata": {},
   "outputs": [
    {
     "name": "stdout",
     "output_type": "stream",
     "text": [
      "2254209090064\n",
      "2254209090064\n"
     ]
    }
   ],
   "source": [
    "a=10\n",
    "b=10\n",
    "print(id(a))\n",
    "print(id(b))\n"
   ]
  },
  {
   "cell_type": "code",
   "execution_count": 6,
   "id": "213aa562-7acb-4aa2-b3da-eb2f50cfa76c",
   "metadata": {},
   "outputs": [
    {
     "name": "stdout",
     "output_type": "stream",
     "text": [
      "2254209090128\n",
      "2254209091856\n"
     ]
    }
   ],
   "source": [
    "#ID IS SAME FOR SAME VALUE AND DIFFERENT FOR DIFFERENT FOR DIFF VALUE but only value should range b/w \"-5 to 256\"\n",
    "a=12\n",
    "b=66\n",
    "print(id(a))\n",
    "print(id(b))"
   ]
  },
  {
   "cell_type": "markdown",
   "id": "488d1c49-fe11-46fc-8c5b-66f88dc22aac",
   "metadata": {},
   "source": [
    "# #Arithmetic operators"
   ]
  },
  {
   "cell_type": "code",
   "execution_count": 1,
   "id": "c72e0991-094c-4b58-b4ce-51e689e4ed5c",
   "metadata": {},
   "outputs": [
    {
     "data": {
      "text/plain": [
       "30"
      ]
     },
     "execution_count": 1,
     "metadata": {},
     "output_type": "execute_result"
    }
   ],
   "source": [
    "a= 10\n",
    "b=20\n",
    "a+b"
   ]
  },
  {
   "cell_type": "code",
   "execution_count": 2,
   "id": "215c0d15-58cd-4ff9-ab66-7e4c70808fcd",
   "metadata": {},
   "outputs": [
    {
     "data": {
      "text/plain": [
       "-10"
      ]
     },
     "execution_count": 2,
     "metadata": {},
     "output_type": "execute_result"
    }
   ],
   "source": [
    "a-b\n"
   ]
  },
  {
   "cell_type": "code",
   "execution_count": 4,
   "id": "cf8ecb3e-085c-4224-8c5e-9f68c6446fa6",
   "metadata": {},
   "outputs": [
    {
     "data": {
      "text/plain": [
       "200"
      ]
     },
     "execution_count": 4,
     "metadata": {},
     "output_type": "execute_result"
    }
   ],
   "source": [
    "a*b #multiply"
   ]
  },
  {
   "cell_type": "code",
   "execution_count": 6,
   "id": "ed4f4c21-bf1e-43c0-a70d-9f1cd904d504",
   "metadata": {},
   "outputs": [
    {
     "data": {
      "text/plain": [
       "100000000000000000000"
      ]
     },
     "execution_count": 6,
     "metadata": {},
     "output_type": "execute_result"
    }
   ],
   "source": [
    "a**b#exponentaion"
   ]
  },
  {
   "cell_type": "code",
   "execution_count": 10,
   "id": "5c8651ed-4a9f-4fd5-a78f-12b9aa085641",
   "metadata": {},
   "outputs": [
    {
     "data": {
      "text/plain": [
       "0.5"
      ]
     },
     "execution_count": 10,
     "metadata": {},
     "output_type": "execute_result"
    }
   ],
   "source": [
    "a/b  #float division"
   ]
  },
  {
   "cell_type": "code",
   "execution_count": 9,
   "id": "d8ef60d0-3b2e-41c3-a79b-5e3cf77a4c37",
   "metadata": {},
   "outputs": [
    {
     "data": {
      "text/plain": [
       "0"
      ]
     },
     "execution_count": 9,
     "metadata": {},
     "output_type": "execute_result"
    }
   ],
   "source": [
    "a//b #int division"
   ]
  },
  {
   "cell_type": "markdown",
   "id": "258c2c3a-dc4f-4579-bab8-a88d4f7c6aab",
   "metadata": {},
   "source": [
    "# #Input"
   ]
  },
  {
   "cell_type": "code",
   "execution_count": 13,
   "id": "e8059958-8370-4403-9826-5b80383af1bc",
   "metadata": {},
   "outputs": [
    {
     "name": "stdin",
     "output_type": "stream",
     "text": [
      " 23\n",
      " 23\n"
     ]
    },
    {
     "name": "stdout",
     "output_type": "stream",
     "text": [
      "2323\n"
     ]
    },
    {
     "data": {
      "text/plain": [
       "str"
      ]
     },
     "execution_count": 13,
     "metadata": {},
     "output_type": "execute_result"
    }
   ],
   "source": [
    "a=input()\n",
    "b=input()\n",
    "s=a+b\n",
    "print(s)\n",
    "type(s)"
   ]
  },
  {
   "cell_type": "code",
   "execution_count": 1,
   "id": "82c9c675-2a7c-40bf-b702-80985c21d33b",
   "metadata": {},
   "outputs": [
    {
     "name": "stdout",
     "output_type": "stream",
     "text": [
      "23\n",
      "23\n",
      "46\n"
     ]
    },
    {
     "data": {
      "text/plain": [
       "int"
      ]
     },
     "execution_count": 1,
     "metadata": {},
     "output_type": "execute_result"
    }
   ],
   "source": [
    "a=int(input())\n",
    "b=int(input())\n",
    "s=a+b\n",
    "print(s)\n",
    "type(s)"
   ]
  },
  {
   "cell_type": "markdown",
   "id": "2afd2293",
   "metadata": {},
   "source": [
    "# #Boolean"
   ]
  },
  {
   "cell_type": "code",
   "execution_count": 2,
   "id": "8596bfbd",
   "metadata": {},
   "outputs": [],
   "source": [
    "a= True\n",
    "b= False\n",
    "#c= true - will print an error\n",
    "#d= false- will print an error "
   ]
  },
  {
   "cell_type": "markdown",
   "id": "4d9b2800",
   "metadata": {},
   "source": [
    "# #Relational"
   ]
  },
  {
   "cell_type": "code",
   "execution_count": 8,
   "id": "5e5c158b",
   "metadata": {},
   "outputs": [
    {
     "name": "stdout",
     "output_type": "stream",
     "text": [
      "False\n",
      "False\n",
      "True\n",
      "True\n",
      "False\n",
      "True\n"
     ]
    }
   ],
   "source": [
    "a=10\n",
    "b=20\n",
    "print(a>b)\n",
    "print(a>=b)\n",
    "print(a<b)\n",
    "print(a<=b)\n",
    "print(a==b)\n",
    "print(a!=b)\n"
   ]
  },
  {
   "cell_type": "markdown",
   "id": "c18e41dc",
   "metadata": {},
   "source": [
    "# #Logical"
   ]
  },
  {
   "cell_type": "code",
   "execution_count": 10,
   "id": "3e083ff1",
   "metadata": {},
   "outputs": [
    {
     "name": "stdout",
     "output_type": "stream",
     "text": [
      "True\n",
      "False\n",
      "False\n"
     ]
    }
   ],
   "source": [
    "a=True\n",
    "b=False\n",
    "print(a or b)\n",
    "print(a and b)\n",
    "print(not a)\n"
   ]
  },
  {
   "cell_type": "markdown",
   "id": "c929c5a9",
   "metadata": {},
   "source": [
    "# #if-else"
   ]
  },
  {
   "cell_type": "code",
   "execution_count": 11,
   "id": "d7e3beec",
   "metadata": {},
   "outputs": [
    {
     "name": "stdout",
     "output_type": "stream",
     "text": [
      "Greater than 30\n"
     ]
    }
   ],
   "source": [
    "a=40\n",
    "if(a>30):\n",
    "    print(\"Greater than 30\")\n",
    "else:\n",
    "    print(\"lesser than 30\")"
   ]
  },
  {
   "cell_type": "markdown",
   "id": "59301cd6",
   "metadata": {},
   "source": [
    "a=40\n",
    "if(a>=13 and a<=39):\n",
    "    print(\"lesser than 40\")\n",
    "elif(a>=40):\n",
    "    print(\"yeah its 40\")\n",
    "else:\n",
    "    print(\"INVALID\")"
   ]
  },
  {
   "cell_type": "markdown",
   "id": "df674c81",
   "metadata": {},
   "source": [
    "# #while"
   ]
  },
  {
   "cell_type": "code",
   "execution_count": 14,
   "id": "eabf97c4",
   "metadata": {},
   "outputs": [
    {
     "name": "stdout",
     "output_type": "stream",
     "text": [
      "true\n",
      "true\n",
      "true\n"
     ]
    }
   ],
   "source": [
    "n=30\n",
    "count=32\n",
    "while(count>=n):\n",
    "    print(\"true\")\n",
    "    count-=1"
   ]
  },
  {
   "cell_type": "markdown",
   "id": "2240b75e",
   "metadata": {},
   "source": [
    "# #For "
   ]
  },
  {
   "cell_type": "code",
   "execution_count": 5,
   "id": "9fea145b",
   "metadata": {},
   "outputs": [
    {
     "name": "stdout",
     "output_type": "stream",
     "text": [
      "siddharth\n",
      "siddharth\n",
      "siddharth\n",
      "siddharth\n",
      "siddharth\n",
      "siddharth\n",
      "siddharth\n",
      "siddharth\n",
      "siddharth\n"
     ]
    }
   ],
   "source": [
    "s= \"siddharth\"\n",
    "for i in s: #printed s\n",
    "    print(s)"
   ]
  },
  {
   "cell_type": "code",
   "execution_count": 6,
   "id": "5c532359",
   "metadata": {},
   "outputs": [
    {
     "name": "stdout",
     "output_type": "stream",
     "text": [
      "a\n",
      "b\n",
      "c\n",
      "d\n"
     ]
    }
   ],
   "source": [
    "s= \"abcd\" \n",
    "for c in s: #printed c\n",
    "    print(c)"
   ]
  },
  {
   "cell_type": "code",
   "execution_count": 8,
   "id": "3bcbfe7b",
   "metadata": {},
   "outputs": [
    {
     "name": "stdout",
     "output_type": "stream",
     "text": [
      "5\n",
      "0\n",
      "1\n",
      "2\n",
      "3\n",
      "4\n",
      "5\n"
     ]
    }
   ],
   "source": [
    "n=int(input())\n",
    "for i in range(0,n+1,1):\n",
    "    print(i)"
   ]
  },
  {
   "cell_type": "code",
   "execution_count": 10,
   "id": "eb1cbf82",
   "metadata": {},
   "outputs": [
    {
     "name": "stdout",
     "output_type": "stream",
     "text": [
      "5\n",
      "0\n",
      "1\n",
      "2\n",
      "3\n",
      "4\n",
      "5\n"
     ]
    }
   ],
   "source": [
    "n=int(input())\n",
    "for i in range(n+1):  #default- start=0 ,step=1\n",
    "    print(i)"
   ]
  },
  {
   "cell_type": "markdown",
   "id": "99a1e1f6",
   "metadata": {},
   "source": [
    "# Write a program to print first x terms of the series 3N + 2 which are not multiples of 4"
   ]
  },
  {
   "cell_type": "code",
   "execution_count": 7,
   "id": "128be4c6",
   "metadata": {},
   "outputs": [
    {
     "name": "stdout",
     "output_type": "stream",
     "text": [
      "5\n",
      "5 11 14 17 23 "
     ]
    }
   ],
   "source": [
    "n=int(input())\n",
    "i =1\n",
    "count=1\n",
    "while(count<= n):\n",
    "    j=((3*i)+2)\n",
    "    if(j%4!=0):\n",
    "        count=count+1\n",
    "        print(j,end=\" \")\n",
    "    i=i+1"
   ]
  },
  {
   "cell_type": "markdown",
   "id": "d52eb472",
   "metadata": {},
   "source": [
    "# Check if a number is prime or not"
   ]
  },
  {
   "cell_type": "code",
   "execution_count": 14,
   "id": "f2d42cf9",
   "metadata": {},
   "outputs": [
    {
     "name": "stdout",
     "output_type": "stream",
     "text": [
      "5\n",
      "True,yes a prime\n"
     ]
    }
   ],
   "source": [
    "n=int(input())\n",
    "flag= \"false\"\n",
    "for i in range(2,n,1):\n",
    "    if(n%i==0):\n",
    "        flag= \"false,not a prime\"\n",
    "        break\n",
    "    else:\n",
    "        flag=\"True,yes a prime\"\n",
    "print(flag)"
   ]
  },
  {
   "cell_type": "markdown",
   "id": "8439b5cf",
   "metadata": {},
   "source": [
    "# Write a program that asks the user for a number N and a choice C. And then give them the possibility to choose between computing the sum and computing the product of all integers in the range 1 to N "
   ]
  },
  {
   "cell_type": "code",
   "execution_count": 19,
   "id": "97aaa19e",
   "metadata": {},
   "outputs": [
    {
     "name": "stdout",
     "output_type": "stream",
     "text": [
      "1.sum\n",
      "2.multiply\n",
      "2\n",
      "10\n",
      "3628800\n"
     ]
    }
   ],
   "source": [
    "print(\"1.sum\")\n",
    "print(\"2.multiply\")\n",
    "n=int(input())\n",
    "a=int(input())\n",
    "b=0\n",
    "c=1\n",
    "if(n==1):\n",
    "    for i in range(a+1):\n",
    "        b=b+i\n",
    "    print(b)\n",
    "elif(n==2):\n",
    "    for i in range(1,a+1):\n",
    "        c=c*i\n",
    "    print(c)\n",
    "else:\n",
    "    print(\"Invalid Choice\")"
   ]
  },
  {
   "cell_type": "markdown",
   "id": "12e09c6b",
   "metadata": {},
   "source": [
    "# Given a number N, find its square root. You need to find and print only the integral part of square root of N."
   ]
  },
  {
   "cell_type": "code",
   "execution_count": 2,
   "id": "453082ff",
   "metadata": {},
   "outputs": [
    {
     "name": "stdout",
     "output_type": "stream",
     "text": [
      "9\n",
      "3.0\n"
     ]
    }
   ],
   "source": [
    "n= int(input())\n",
    "a= n**(1/2)\n",
    "print(a)"
   ]
  },
  {
   "cell_type": "code",
   "execution_count": 5,
   "id": "5bee9ec7",
   "metadata": {},
   "outputs": [
    {
     "name": "stdout",
     "output_type": "stream",
     "text": [
      "4\n",
      "2\n"
     ]
    }
   ],
   "source": [
    "n= int(input())\n",
    "a= n**(1/2)\n",
    "print(int(a))"
   ]
  },
  {
   "cell_type": "code",
   "execution_count": null,
   "id": "6eefa18f",
   "metadata": {},
   "outputs": [],
   "source": []
  }
 ],
 "metadata": {
  "kernelspec": {
   "display_name": "Python 3 (ipykernel)",
   "language": "python",
   "name": "python3"
  },
  "language_info": {
   "codemirror_mode": {
    "name": "ipython",
    "version": 3
   },
   "file_extension": ".py",
   "mimetype": "text/x-python",
   "name": "python",
   "nbconvert_exporter": "python",
   "pygments_lexer": "ipython3",
   "version": "3.10.9"
  }
 },
 "nbformat": 4,
 "nbformat_minor": 5
}
